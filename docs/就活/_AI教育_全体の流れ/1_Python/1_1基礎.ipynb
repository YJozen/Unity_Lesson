{
 "cells": [
  {
   "cell_type": "markdown",
   "id": "a186ca7d-96c9-43b1-ac17-244dd46f708a",
   "metadata": {},
   "source": [
    "# Print文 コメント"
   ]
  },
  {
   "cell_type": "code",
   "execution_count": 1,
   "id": "4b6cac29-fdd2-4adb-8f1e-49f0da5b375b",
   "metadata": {},
   "outputs": [
    {
     "name": "stdout",
     "output_type": "stream",
     "text": [
      "Hello World!\n"
     ]
    }
   ],
   "source": [
    "print(\"Hello World!\")\n",
    "\n",
    "# こんにちは    \n",
    "# セルの最後に変数書くだけでも表示される\n"
   ]
  },
  {
   "cell_type": "markdown",
   "id": "d7294896",
   "metadata": {},
   "source": [
    "# 変数　データ型"
   ]
  },
  {
   "cell_type": "code",
   "execution_count": 3,
   "id": "f605d015-c0b5-4546-98a4-80e8a4e280d2",
   "metadata": {},
   "outputs": [
    {
     "name": "stdout",
     "output_type": "stream",
     "text": [
      "こんにちは\n"
     ]
    }
   ],
   "source": [
    "x = 1\n",
    "a = \"こんにちは\"\n",
    "\n",
    "print(a)"
   ]
  },
  {
   "cell_type": "code",
   "execution_count": 6,
   "id": "8cd5d7e6",
   "metadata": {},
   "outputs": [
    {
     "name": "stdout",
     "output_type": "stream",
     "text": [
      "<class 'int'>\n"
     ]
    },
    {
     "data": {
      "text/plain": [
       "str"
      ]
     },
     "execution_count": 6,
     "metadata": {},
     "output_type": "execute_result"
    }
   ],
   "source": [
    "print(type(x))\n",
    "\n",
    "type(a)"
   ]
  },
  {
   "cell_type": "markdown",
   "id": "cbbf5986",
   "metadata": {},
   "source": [
    "# 3数値型の基本操作"
   ]
  },
  {
   "cell_type": "code",
   "execution_count": 8,
   "id": "60021458-2c3a-4ff3-ada4-fe258383f344",
   "metadata": {},
   "outputs": [
    {
     "data": {
      "text/plain": [
       "3.3333333333333335"
      ]
     },
     "execution_count": 8,
     "metadata": {},
     "output_type": "execute_result"
    }
   ],
   "source": [
    "45*1000\n",
    "\n",
    "10/3"
   ]
  },
  {
   "cell_type": "code",
   "execution_count": 9,
   "id": "a9672f68-9012-4660-a3f0-b7b5cc6d02b2",
   "metadata": {},
   "outputs": [
    {
     "data": {
      "text/plain": [
       "2"
      ]
     },
     "execution_count": 9,
     "metadata": {},
     "output_type": "execute_result"
    }
   ],
   "source": [
    "20%6"
   ]
  },
  {
   "cell_type": "code",
   "execution_count": 12,
   "id": "94531032",
   "metadata": {},
   "outputs": [
    {
     "data": {
      "text/plain": [
       "169"
      ]
     },
     "execution_count": 12,
     "metadata": {},
     "output_type": "execute_result"
    }
   ],
   "source": [
    "x=13\n",
    "x**2"
   ]
  },
  {
   "cell_type": "code",
   "execution_count": 13,
   "id": "fad3a0a3",
   "metadata": {},
   "outputs": [
    {
     "data": {
      "text/plain": [
       "2730"
      ]
     },
     "execution_count": 13,
     "metadata": {},
     "output_type": "execute_result"
    }
   ],
   "source": [
    "x*(x+1)*(x+2)"
   ]
  },
  {
   "cell_type": "markdown",
   "id": "3268e626",
   "metadata": {},
   "source": [
    "# 4.文字列型の基本操作"
   ]
  },
  {
   "cell_type": "code",
   "execution_count": 15,
   "id": "f07a9cd3",
   "metadata": {},
   "outputs": [
    {
     "data": {
      "text/plain": [
       "'こんにちは'"
      ]
     },
     "execution_count": 15,
     "metadata": {},
     "output_type": "execute_result"
    }
   ],
   "source": [
    "moji = \"こんにちは\"\n",
    "\n",
    "moji"
   ]
  },
  {
   "cell_type": "code",
   "execution_count": 7,
   "id": "ee780ef1",
   "metadata": {},
   "outputs": [
    {
     "data": {
      "text/plain": [
       "'i have a pen'"
      ]
     },
     "execution_count": 7,
     "metadata": {},
     "output_type": "execute_result"
    }
   ],
   "source": [
    "bunsho=\"i have a pen\"\n",
    "bunsho.lower()\n"
   ]
  },
  {
   "cell_type": "code",
   "execution_count": 20,
   "id": "d4f489f3",
   "metadata": {},
   "outputs": [
    {
     "data": {
      "text/plain": [
       "'I HAVE A PEN'"
      ]
     },
     "execution_count": 20,
     "metadata": {},
     "output_type": "execute_result"
    }
   ],
   "source": [
    "bunsho.upper()"
   ]
  },
  {
   "cell_type": "code",
   "execution_count": 21,
   "id": "25617631",
   "metadata": {},
   "outputs": [
    {
     "data": {
      "text/plain": [
       "'i hAve A pen'"
      ]
     },
     "execution_count": 21,
     "metadata": {},
     "output_type": "execute_result"
    }
   ],
   "source": [
    "bunsho.replace(\"a\",\"A\")"
   ]
  },
  {
   "cell_type": "code",
   "execution_count": 6,
   "id": "f853e7f4",
   "metadata": {},
   "outputs": [
    {
     "ename": "NameError",
     "evalue": "name 'bunsho' is not defined",
     "output_type": "error",
     "traceback": [
      "\u001b[0;31m---------------------------------------------------------------------------\u001b[0m",
      "\u001b[0;31mNameError\u001b[0m                                 Traceback (most recent call last)",
      "Cell \u001b[0;32mIn[6], line 2\u001b[0m\n\u001b[1;32m      1\u001b[0m bunsho2\u001b[38;5;241m=\u001b[39m\u001b[38;5;124m\"\u001b[39m\u001b[38;5;124mI have an apple\u001b[39m\u001b[38;5;124m\"\u001b[39m\n\u001b[0;32m----> 2\u001b[0m bunsho2 \u001b[38;5;241m+\u001b[39m \u001b[38;5;124m\"\u001b[39m\u001b[38;5;124m  \u001b[39m\u001b[38;5;124m\"\u001b[39m \u001b[38;5;241m+\u001b[39m\u001b[43mbunsho\u001b[49m\n",
      "\u001b[0;31mNameError\u001b[0m: name 'bunsho' is not defined"
     ]
    }
   ],
   "source": [
    "bunsho2=\"I have an apple\"\n",
    "bunsho2 + \"  \" +bunsho"
   ]
  },
  {
   "cell_type": "markdown",
   "id": "0fa60664",
   "metadata": {},
   "source": [
    "# 5 if文"
   ]
  },
  {
   "cell_type": "code",
   "execution_count": 8,
   "id": "ab8fa54c",
   "metadata": {},
   "outputs": [
    {
     "name": "stdout",
     "output_type": "stream",
     "text": [
      "偶数\n"
     ]
    }
   ],
   "source": [
    "a = 25\n",
    "a = int(input(\"整数を入力してください\"))\n",
    "if a % 2 == 0:\n",
    "    print(\"偶数\")\n",
    "else:\n",
    "    print(\"奇数\")"
   ]
  },
  {
   "cell_type": "code",
   "execution_count": 14,
   "id": "2dc099f1",
   "metadata": {},
   "outputs": [
    {
     "name": "stdout",
     "output_type": "stream",
     "text": [
      "20以上または偶数\n"
     ]
    }
   ],
   "source": [
    "a = 28\n",
    "\n",
    "if (a>= 20) and (a%3) == 0:\n",
    "    print(\"20以上 かつ3以上\")\n",
    "elif (a>20) | (a%2==0):\n",
    "    print(\"20以上または偶数\")\n",
    "else:\n",
    "    print(\"条件外\")"
   ]
  },
  {
   "cell_type": "markdown",
   "id": "17708ef2",
   "metadata": {},
   "source": [
    "# 6. for文"
   ]
  },
  {
   "cell_type": "code",
   "execution_count": 15,
   "id": "13044347",
   "metadata": {},
   "outputs": [
    {
     "name": "stdout",
     "output_type": "stream",
     "text": [
      "0\n",
      "1\n",
      "2\n",
      "3\n",
      "4\n",
      "5\n",
      "6\n",
      "7\n",
      "8\n",
      "9\n"
     ]
    }
   ],
   "source": [
    "for i in range(10):\n",
    "    print(i)"
   ]
  },
  {
   "cell_type": "code",
   "execution_count": 16,
   "id": "91184a27",
   "metadata": {},
   "outputs": [
    {
     "name": "stdout",
     "output_type": "stream",
     "text": [
      "0\n",
      "2\n",
      "4\n",
      "6\n",
      "8\n",
      "10\n",
      "12\n",
      "14\n",
      "16\n",
      "18\n"
     ]
    }
   ],
   "source": [
    "for i in range(10):\n",
    "    print(i*2)"
   ]
  },
  {
   "cell_type": "code",
   "execution_count": 18,
   "id": "6a412f27",
   "metadata": {},
   "outputs": [
    {
     "name": "stdout",
     "output_type": "stream",
     "text": [
      "0   2\n",
      "1   3\n",
      "2   5\n"
     ]
    }
   ],
   "source": [
    "a =[2,3,5] \n",
    "for i,j in enumerate(a):\n",
    "    print(f\"{i}   {j}\" )"
   ]
  },
  {
   "cell_type": "code",
   "execution_count": 21,
   "id": "06fbf891",
   "metadata": {},
   "outputs": [
    {
     "name": "stdout",
     "output_type": "stream",
     "text": [
      "1 - a - x\n",
      "2 - b - y\n",
      "3 - c - z\n"
     ]
    }
   ],
   "source": [
    "list1 = [1, 2, 3]\n",
    "list2 = ['a', 'b', 'c']\n",
    "list3 = ['x', 'y', 'z']\n",
    "\n",
    "for a, b, c in zip(list1, list2, list3):\n",
    "    print(f\"{a} - {b} - {c}\")"
   ]
  },
  {
   "cell_type": "code",
   "execution_count": 22,
   "id": "69122a7e",
   "metadata": {},
   "outputs": [
    {
     "name": "stdout",
     "output_type": "stream",
     "text": [
      "(1, 2, 3)\n",
      "('a', 'b', 'c')\n"
     ]
    }
   ],
   "source": [
    "zipped = [(1, 'a'), (2, 'b'), (3, 'c')]\n",
    "\n",
    "list1, list2 = zip(*zipped)\n",
    "print(list1)  # (1, 2, 3)\n",
    "print(list2)  # ('a', 'b', 'c')"
   ]
  },
  {
   "cell_type": "code",
   "execution_count": 23,
   "id": "1170820c",
   "metadata": {},
   "outputs": [
    {
     "name": "stdout",
     "output_type": "stream",
     "text": [
      "{'name': 'Alice', 'age': 25, 'city': 'New York'}\n"
     ]
    }
   ],
   "source": [
    "keys = ['name', 'age', 'city']\n",
    "values = ['Alice', 25, 'New York']\n",
    "\n",
    "dictionary = dict(zip(keys, values))\n",
    "print(dictionary)\n"
   ]
  },
  {
   "cell_type": "markdown",
   "id": "64aa980c",
   "metadata": {},
   "source": [
    "# 7. while文"
   ]
  },
  {
   "cell_type": "code",
   "execution_count": null,
   "id": "d6d3dbd5",
   "metadata": {},
   "outputs": [
    {
     "name": "stdout",
     "output_type": "stream",
     "text": [
      "0\n",
      "1\n",
      "3\n",
      "6\n",
      "10\n",
      "15\n",
      "21\n",
      "28\n",
      "36\n",
      "45\n"
     ]
    }
   ],
   "source": [
    "number = 0\n",
    "i= 0\n",
    "while i < 10:\n",
    "    number += i\n",
    "    i += 1\n",
    "    print(number)\n"
   ]
  },
  {
   "cell_type": "markdown",
   "id": "38054366",
   "metadata": {},
   "source": [
    "# 8. リスト　タプル　辞書"
   ]
  },
  {
   "cell_type": "code",
   "execution_count": 29,
   "id": "2e9fff34",
   "metadata": {},
   "outputs": [
    {
     "name": "stdout",
     "output_type": "stream",
     "text": [
      "3 4 5 6\n"
     ]
    }
   ],
   "source": [
    "a=3\n",
    "b=4\n",
    "c=5\n",
    "d=6\n",
    "print(a,b,c,d)"
   ]
  },
  {
   "cell_type": "code",
   "execution_count": null,
   "id": "cfc3174b",
   "metadata": {},
   "outputs": [
    {
     "name": "stdout",
     "output_type": "stream",
     "text": [
      "3\n"
     ]
    },
    {
     "data": {
      "text/plain": [
       "9"
      ]
     },
     "execution_count": 32,
     "metadata": {},
     "output_type": "execute_result"
    }
   ],
   "source": [
    "a = [1, 2, 3, 5 , 7 , 9] \n",
    "print(a[2])\n",
    "max(a)"
   ]
  },
  {
   "cell_type": "code",
   "execution_count": 36,
   "id": "7fd2170a",
   "metadata": {},
   "outputs": [
    {
     "name": "stdout",
     "output_type": "stream",
     "text": [
      "[1, 2, 3, 5]\n",
      "[2, 3, 5]\n",
      "[5, 7, 9]\n"
     ]
    }
   ],
   "source": [
    "print(a[:4])\n",
    "print(a[1:4])\n",
    "print(a[3:])"
   ]
  },
  {
   "cell_type": "code",
   "execution_count": 37,
   "id": "50f62663",
   "metadata": {},
   "outputs": [
    {
     "name": "stdout",
     "output_type": "stream",
     "text": [
      "4は含まれていません\n"
     ]
    }
   ],
   "source": [
    "if 4 in a:\n",
    "    print(\"4は含まれています\")\n",
    "else:\n",
    "    print(\"4は含まれていません\")"
   ]
  },
  {
   "cell_type": "code",
   "execution_count": 38,
   "id": "cac3a8e8",
   "metadata": {},
   "outputs": [
    {
     "name": "stdout",
     "output_type": "stream",
     "text": [
      "1\n",
      "2\n",
      "3\n",
      "5\n",
      "7\n",
      "9\n"
     ]
    }
   ],
   "source": [
    "for i in a:\n",
    "    print(i)"
   ]
  },
  {
   "cell_type": "code",
   "execution_count": 39,
   "id": "06dc8ec3",
   "metadata": {},
   "outputs": [],
   "source": [
    "\n",
    "b=(1,2,3)"
   ]
  },
  {
   "cell_type": "code",
   "execution_count": 40,
   "id": "3cfe6fc3",
   "metadata": {},
   "outputs": [
    {
     "data": {
      "text/plain": [
       "[10, 2, 3, 5, 7, 9]"
      ]
     },
     "execution_count": 40,
     "metadata": {},
     "output_type": "execute_result"
    }
   ],
   "source": [
    "a[0]   = 10\n",
    "a"
   ]
  },
  {
   "cell_type": "code",
   "execution_count": null,
   "id": "5d844c79",
   "metadata": {},
   "outputs": [],
   "source": [
    "a.append(11)"
   ]
  },
  {
   "cell_type": "code",
   "execution_count": 45,
   "id": "f8643f9f",
   "metadata": {},
   "outputs": [
    {
     "data": {
      "text/plain": [
       "0"
      ]
     },
     "execution_count": 45,
     "metadata": {},
     "output_type": "execute_result"
    }
   ],
   "source": [
    "b.count(4)"
   ]
  },
  {
   "cell_type": "code",
   "execution_count": 47,
   "id": "42f39b21",
   "metadata": {},
   "outputs": [
    {
     "data": {
      "text/plain": [
       "25"
      ]
     },
     "execution_count": 47,
     "metadata": {},
     "output_type": "execute_result"
    }
   ],
   "source": [
    "dic = {\"name\": \"Alice\", \"age\": 25, \"city\": \"New York\"}\n",
    "dic[\"age\"]"
   ]
  },
  {
   "cell_type": "code",
   "execution_count": 49,
   "id": "85b604d5",
   "metadata": {},
   "outputs": [
    {
     "data": {
      "text/plain": [
       "dict_values(['Alice', 25, 'New York'])"
      ]
     },
     "execution_count": 49,
     "metadata": {},
     "output_type": "execute_result"
    }
   ],
   "source": [
    "dic.values()"
   ]
  },
  {
   "cell_type": "code",
   "execution_count": null,
   "id": "322da8df",
   "metadata": {},
   "outputs": [
    {
     "data": {
      "text/plain": [
       "dict_keys(['name', 'age', 'city'])"
      ]
     },
     "execution_count": 50,
     "metadata": {},
     "output_type": "execute_result"
    }
   ],
   "source": [
    "dic.keys() #順番の概念がない　リストにはある"
   ]
  },
  {
   "cell_type": "code",
   "execution_count": null,
   "id": "870b8a8c",
   "metadata": {},
   "outputs": [],
   "source": []
  },
  {
   "cell_type": "markdown",
   "id": "40ace4ad",
   "metadata": {},
   "source": [
    "# 9 関数"
   ]
  },
  {
   "cell_type": "code",
   "execution_count": 56,
   "id": "fc1607e7",
   "metadata": {},
   "outputs": [
    {
     "name": "stdout",
     "output_type": "stream",
     "text": [
      "[30, 10]\n",
      "30\n",
      "10\n"
     ]
    }
   ],
   "source": [
    "def double(x):\n",
    "    return x*2\n",
    "\n",
    "double(2)\n",
    "\n",
    "def calc(a,b,c):\n",
    "    x = a*b*c\n",
    "    y = a+b+c\n",
    "    return [x,y]\n",
    "\n",
    "\n",
    "print(calc(5,2,3))\n",
    "print(calc(5,2,3)[0])\n",
    "print(calc(5,2,3)[1])\n",
    "\n",
    "\n",
    "\n"
   ]
  },
  {
   "cell_type": "markdown",
   "id": "d4ac1637",
   "metadata": {},
   "source": [
    "# 10. クラス　インスタンス"
   ]
  },
  {
   "cell_type": "code",
   "execution_count": 64,
   "id": "3b9a951c",
   "metadata": {},
   "outputs": [
    {
     "name": "stdout",
     "output_type": "stream",
     "text": [
      "as\n",
      "私の名前は愛、25才、New Yorkに住んでいます\n",
      "私の名前は上、25才、New Yorkに住んでいます\n"
     ]
    },
    {
     "data": {
      "text/plain": [
       "__main__.Person"
      ]
     },
     "execution_count": 64,
     "metadata": {},
     "output_type": "execute_result"
    }
   ],
   "source": [
    "class Person:\n",
    "    def __init__(self, name, age, city):\n",
    "        self.name = name\n",
    "        self.age = age\n",
    "        self.city = city\n",
    "    def introduce(self):\n",
    "        print(f\"私の名前は{self.name}、{self.age}才、{self.city}に住んでいます\")\n",
    "    def test(self,a):\n",
    "        print(a)\n",
    "\n",
    "    def test2(self):\n",
    "        self.name = \"愛\"\n",
    "    \n",
    "p = Person(\"Alice\", 25, \"New York\")\n",
    "\n",
    "p.test(\"as\")\n",
    "p.test2()\n",
    "p.introduce()\n",
    "\n",
    "p.name = \"上\"\n",
    "p.introduce()\n",
    "type(p)"
   ]
  },
  {
   "cell_type": "code",
   "execution_count": 65,
   "id": "e4f8305d",
   "metadata": {},
   "outputs": [
    {
     "name": "stdout",
     "output_type": "stream",
     "text": [
      "私の名前はAlice、25才、New Yorkに住んでいます\n"
     ]
    }
   ],
   "source": [
    "c = Person(\"Alice\", 25, \"New York\")\n",
    "\n",
    "c.introduce()"
   ]
  },
  {
   "cell_type": "code",
   "execution_count": 66,
   "id": "c3d46cee",
   "metadata": {},
   "outputs": [
    {
     "data": {
      "text/plain": [
       "{'name': 'Alice', 'age': 25, 'city': 'New York'}"
      ]
     },
     "execution_count": 66,
     "metadata": {},
     "output_type": "execute_result"
    }
   ],
   "source": [
    "vars(c)"
   ]
  },
  {
   "cell_type": "markdown",
   "id": "088f5b38",
   "metadata": {},
   "source": []
  },
  {
   "cell_type": "code",
   "execution_count": null,
   "id": "857a92d4",
   "metadata": {},
   "outputs": [],
   "source": []
  }
 ],
 "metadata": {
  "kernelspec": {
   "display_name": "jupyter_test",
   "language": "python",
   "name": "python3"
  },
  "language_info": {
   "codemirror_mode": {
    "name": "ipython",
    "version": 3
   },
   "file_extension": ".py",
   "mimetype": "text/x-python",
   "name": "python",
   "nbconvert_exporter": "python",
   "pygments_lexer": "ipython3",
   "version": "3.12.3"
  }
 },
 "nbformat": 4,
 "nbformat_minor": 5
}
