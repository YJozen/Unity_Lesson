{
 "cells": [
  {
   "cell_type": "code",
   "execution_count": null,
   "metadata": {},
   "outputs": [],
   "source": [
    "import numpy as np"
   ]
  },
  {
   "cell_type": "code",
   "execution_count": null,
   "metadata": {},
   "outputs": [],
   "source": [
    "import pandas as pd"
   ]
  },
  {
   "cell_type": "code",
   "execution_count": null,
   "metadata": {},
   "outputs": [],
   "source": [
    "import statsmodels.api as sm #　sckitlernでも可　機械学習というより今回は統計処理メインなのでこっち使用\n",
    "import statsmodels.formula.api as smf   "
   ]
  },
  {
   "cell_type": "code",
   "execution_count": null,
   "metadata": {},
   "outputs": [],
   "source": [
    "import matplotlib.pyplot as plt\n",
    "import seaborn as sns"
   ]
  },
  {
   "cell_type": "markdown",
   "metadata": {},
   "source": [
    "# 線形回帰分析\n",
    "\n",
    "+ 基本的な重回帰分析の説明\n",
    "+ ダミー変数\n",
    "+ 重回帰分析の実行\n",
    "+ Formula APIを用いた重回帰分析の実行\n",
    "+ モデルを使用した未来予測\n",
    "+ グラフの作成\n",
    "+ 特徴量エンジニアリング（対数変換、交互作用）\n",
    "+ 正則化項の追加（Lasso回帰、Ridge回帰、Elastic Net）"
   ]
  },
  {
   "cell_type": "markdown",
   "metadata": {},
   "source": []
  },
  {
   "cell_type": "markdown",
   "metadata": {},
   "source": [
    "# 回帰分析\n"
   ]
  },
  {
   "cell_type": "code",
   "execution_count": null,
   "metadata": {},
   "outputs": [],
   "source": [
    "#　csv　読み込み\n",
    "df_sales = pd.read_csv(\"2_1/sales_sample.csv\")"
   ]
  },
  {
   "cell_type": "code",
   "execution_count": null,
   "metadata": {},
   "outputs": [],
   "source": [
    "df_sales"
   ]
  },
  {
   "cell_type": "markdown",
   "metadata": {},
   "source": [
    "雨を 1 それ以外を0にする"
   ]
  },
  {
   "cell_type": "code",
   "execution_count": null,
   "metadata": {},
   "outputs": [],
   "source": [
    "df_sales[\"雨\"]"
   ]
  },
  {
   "cell_type": "code",
   "execution_count": null,
   "metadata": {},
   "outputs": [],
   "source": [
    "# ダミー変数の用意\n",
    "pd.get_dummies(df_sales[\"雨\"])"
   ]
  },
  {
   "cell_type": "code",
   "execution_count": null,
   "metadata": {},
   "outputs": [],
   "source": [
    "# ダミー変数の作成\n",
    "\n",
    "df_sales[\"雨_ダミー\"] = pd.get_dummies(df_sales[\"雨\"])"
   ]
  },
  {
   "cell_type": "code",
   "execution_count": null,
   "metadata": {},
   "outputs": [],
   "source": [
    "df_sales"
   ]
  },
  {
   "cell_type": "code",
   "execution_count": null,
   "metadata": {},
   "outputs": [],
   "source": [
    "df_sales[\"雨_ダミー\"] = df_sales[\"雨_ダミー\"].astype(int)"
   ]
  },
  {
   "cell_type": "code",
   "execution_count": null,
   "metadata": {},
   "outputs": [],
   "source": []
  },
  {
   "cell_type": "code",
   "execution_count": null,
   "metadata": {},
   "outputs": [],
   "source": [
    "df_sales"
   ]
  },
  {
   "cell_type": "markdown",
   "metadata": {},
   "source": [
    "# \n",
    "\n"
   ]
  },
  {
   "cell_type": "markdown",
   "metadata": {},
   "source": [
    "# Formula API を使わない方法"
   ]
  },
  {
   "cell_type": "code",
   "execution_count": null,
   "metadata": {},
   "outputs": [],
   "source": [
    "# Formula API を使わない方法\n",
    "\n",
    "## 気温　単価　アメダミー\n",
    "X = df_sales[[\"気温\",\"単価\",\"雨_ダミー\"]]#説明変数\n",
    "\n",
    "##　目的変数\n",
    "y =df_sales [\"売上\"]\n",
    "\n",
    "# OLS 最小二乗法    (目的変数　, 説明変数)\n",
    "model = sm.OLS(y,X)\n",
    "\n",
    "# 線形回帰\n",
    "result = model.fit()\n",
    "\n",
    "# 結果の表示\n",
    "result.summary()\n",
    "\n",
    "\n",
    "# p と　coefを見てみる\n",
    "# p値　0.05以下であれば重要　説明変数について「目的変数に関係性がある」と判断\n",
    "# 売上　= 45.8 ✖️　気温　＋ 151.9 ✖️ 雨　＋　\n",
    "# のように売上を推測できる　という意味\n",
    "\n",
    "\n",
    "# y= a1・x1 +  a2・x2   +  ・・・   +　b \n",
    "\n",
    "\n"
   ]
  },
  {
   "cell_type": "code",
   "execution_count": null,
   "metadata": {},
   "outputs": [],
   "source": [
    "# y= a1・x1 +  a2・x2   +  ・・・   +　b のように切片を追加\n",
    "\n",
    "## 気温　単価　アメダミー\n",
    "X = df_sales[[\"気温\",\"単価\",\"雨_ダミー\"]]#説明変数\n",
    "\n",
    "##　目的変数\n",
    "y =df_sales [\"売上\"]\n",
    "\n",
    "# OLS 最小二乗法    (目的変数　, 説明変数)\n",
    "model = sm.OLS(y,sm.add_constant(X))\n",
    "\n",
    "# 線形回帰\n",
    "result = model.fit()\n",
    "\n",
    "# 結果の表示\n",
    "result.summary()\n",
    "\n",
    "# constが　b\n",
    "\n",
    "# 切片のp値が高くても　関係がないとはならない\n",
    "\n",
    "# こっちでも単価は関係なさそう\n"
   ]
  },
  {
   "cell_type": "code",
   "execution_count": null,
   "metadata": {},
   "outputs": [],
   "source": [
    "## 気温　雨ダミー　のみにする　　　  単価を抜く\n",
    "X = df_sales[[\"気温\",\"雨_ダミー\"]]#説明変数\n",
    "\n",
    "##　目的変数\n",
    "y =df_sales [\"売上\"]\n",
    "\n",
    "# OLS 最小二乗法    (目的変数　, 説明変数)\n",
    "model = sm.OLS(y,sm.add_constant(X))# 切片入れる\n",
    "\n",
    "# 線形回帰\n",
    "result = model.fit()\n",
    "\n",
    "# 結果の表示\n",
    "result.summary()\n",
    "\n",
    "\n"
   ]
  },
  {
   "cell_type": "markdown",
   "metadata": {},
   "source": [
    "## 単価を入れるのと入れないのどっちがいいモデル？\n",
    "\n",
    "\n",
    "Adjusted (Adj.) R-squared:\n",
    "自由度調整済み決定係数\n",
    "\n",
    "高い方がモデルがいまくできてる　fitting\n",
    "\n",
    "\n",
    "\n",
    "\n"
   ]
  },
  {
   "cell_type": "markdown",
   "metadata": {},
   "source": [
    "# 回帰分析の実行 (Formula API) を使う方法\n",
    "\n",
    "\n",
    "~ 特徴量エンジニアリング ~\n",
    "\n"
   ]
  },
  {
   "cell_type": "code",
   "execution_count": null,
   "metadata": {},
   "outputs": [],
   "source": [
    "# 最小二乗法\n",
    "model= smf.ols(data=df_sales,formula=\"売上 ~ 気温 + 単価 +雨_ダミー\")\n",
    "\n",
    "# 線形回帰\n",
    "result = model.fit()\n",
    "\n",
    "# 結果\n",
    "result.summary()"
   ]
  },
  {
   "cell_type": "code",
   "execution_count": null,
   "metadata": {},
   "outputs": [],
   "source": [
    "# 最小二乗法\n",
    "model= smf.ols(data=df_sales,formula=\"売上 ~ 気温 + 単価 +雨_ダミー\")\n",
    "\n",
    "# 線形回帰\n",
    "result = model.fit()\n",
    "\n",
    "# 結果\n",
    "result.summary()"
   ]
  },
  {
   "cell_type": "markdown",
   "metadata": {},
   "source": [
    "現在一つの要因だけみてるが\n",
    "\n",
    "\n",
    "\n",
    "\n",
    "気温が高くて　\n",
    "\n",
    "かつ\n",
    "\n",
    "雨降ってる\n",
    "\n",
    "\n",
    "単価が高くてかつ雨降ってて\n",
    "\n",
    "とか複数が絡み合う可能性もある\n",
    "\n",
    "\n",
    "交互作用"
   ]
  },
  {
   "cell_type": "code",
   "execution_count": null,
   "metadata": {},
   "outputs": [],
   "source": [
    "df_sales[\"気温*単価\"]  = df_sales[\"気温\"]*df_sales[\"単価\"]\n",
    "#とかしてデータフレームを作ってモデルを作成するとかは面倒"
   ]
  },
  {
   "cell_type": "code",
   "execution_count": null,
   "metadata": {},
   "outputs": [],
   "source": [
    "\n",
    "\n",
    "\n",
    "# 最小二乗法\n",
    "model= smf.ols(data=df_sales,formula=\"売上 ~ 気温 : 単価 +雨_ダミー\")\n",
    "\n",
    "# 線形回帰\n",
    "result = model.fit()\n",
    "\n",
    "# 結果\n",
    "result.summary()\n",
    "\n",
    "\n"
   ]
  },
  {
   "cell_type": "code",
   "execution_count": null,
   "metadata": {},
   "outputs": [],
   "source": [
    "# 最小二乗法\n",
    "model= smf.ols(data=df_sales,formula=\"売上 ~ 気温 * 単価 +雨_ダミー\")\n",
    "\n",
    "# 線形回帰\n",
    "result = model.fit()\n",
    "\n",
    "# 結果\n",
    "result.summary()"
   ]
  },
  {
   "cell_type": "code",
   "execution_count": null,
   "metadata": {},
   "outputs": [],
   "source": [
    "# 最小二乗法\n",
    "model= smf.ols(data=df_sales,formula=\"売上 ~ 気温 * 単価 * 雨_ダミー\")\n",
    "\n",
    "# 線形回帰\n",
    "result = model.fit()\n",
    "\n",
    "# 結果\n",
    "result.summary()"
   ]
  },
  {
   "cell_type": "markdown",
   "metadata": {},
   "source": [
    "対数変換したい時がある\n",
    "\n",
    "y = ax +  b     モデル\n",
    "\n",
    "yに対数変換した値を使うと\n",
    "「xが1%増えると　yがa%上がる」といった解釈ができる\n",
    "(価格弾性力：価格を1%上た時の需要の変化率)\n",
    "\n"
   ]
  },
  {
   "cell_type": "code",
   "execution_count": null,
   "metadata": {},
   "outputs": [],
   "source": [
    "# 最小二乗法\n",
    "model= smf.ols(data=df_sales,formula=\"売上 ~ 気温 + np.log(単価) + 雨_ダミー\")\n",
    "\n",
    "# 線形回帰\n",
    "result = model.fit()\n",
    "\n",
    "# 結果\n",
    "result.summary()"
   ]
  },
  {
   "cell_type": "markdown",
   "metadata": {},
   "source": []
  },
  {
   "cell_type": "code",
   "execution_count": null,
   "metadata": {},
   "outputs": [],
   "source": [
    "# 最小二乗法\n",
    "model= smf.ols(data=df_sales,formula=\"売上 ~ 気温 + np.log(単価) + 雨_ダミー -1\") #切片を抜きたい場合は-1 \n",
    "\n",
    "# 線形回帰\n",
    "result = model.fit()\n",
    "\n",
    "# 結果\n",
    "result.summary()\n",
    "\n",
    "\n",
    "# 変数名にスペース　入れない　　　半角数字　入れない　　全角ならあり"
   ]
  },
  {
   "cell_type": "code",
   "execution_count": null,
   "metadata": {},
   "outputs": [],
   "source": [
    "# 最小二乗法\n",
    "model= smf.ols(data=df_sales,formula=\"売上 ~ 気温 + 雨_ダミー\") #切片を抜きたい場合は-1 \n",
    "\n",
    "# 線形回帰\n",
    "result = model.fit()\n",
    "\n",
    "# 結果\n",
    "result.summary()"
   ]
  },
  {
   "cell_type": "markdown",
   "metadata": {},
   "source": [
    "完了\n",
    "+ 基本的な重回帰分析の説明\n",
    "+ ダミー変数\n",
    "+ 重回帰分析の実行\n",
    "+ Formula APIを用いた重回帰分析の実行\n",
    "+ 特徴量エンジニアリング（対数変換、交互作用）\n",
    "\n",
    "\n",
    "\n",
    "+ モデルを使用した未来予測\n",
    "+ グラフの作成\n",
    "+ 正則化項の追加（Lasso回帰、Ridge回帰、Elastic Net）"
   ]
  },
  {
   "cell_type": "code",
   "execution_count": null,
   "metadata": {},
   "outputs": [],
   "source": []
  },
  {
   "cell_type": "markdown",
   "metadata": {},
   "source": [
    "\n",
    "# モデルを使用した未来予測\n",
    "\n",
    "過去から法則を見出した\n",
    "来月　どうなるの？"
   ]
  },
  {
   "cell_type": "code",
   "execution_count": null,
   "metadata": {},
   "outputs": [],
   "source": [
    "# 予測\n",
    "\n",
    "df_sales_pred = pd.read_csv(\"2_1/sales_sample_pred.csv\")"
   ]
  },
  {
   "cell_type": "code",
   "execution_count": null,
   "metadata": {},
   "outputs": [],
   "source": [
    "df_sales_pred"
   ]
  },
  {
   "cell_type": "code",
   "execution_count": null,
   "metadata": {},
   "outputs": [],
   "source": [
    "\n",
    "result.predict(df_sales_pred) # モデルから売上予想"
   ]
  },
  {
   "cell_type": "markdown",
   "metadata": {},
   "source": [
    "\n",
    "\n",
    "\n",
    "\n"
   ]
  },
  {
   "cell_type": "code",
   "execution_count": null,
   "metadata": {},
   "outputs": [],
   "source": [
    "df_sales.sort_values(\"気温\") #　気温が低い順　   グラフ化する時に　線があっち行ったりこっち行ったりしないように"
   ]
  },
  {
   "cell_type": "code",
   "execution_count": null,
   "metadata": {},
   "outputs": [],
   "source": []
  },
  {
   "cell_type": "code",
   "execution_count": null,
   "metadata": {},
   "outputs": [],
   "source": [
    "# グラフの確認\n",
    "\n",
    "sns.set()\n",
    "plt.figure(figsize=(10,8))\n",
    "\n",
    "df_sales_sorted = df_sales.sort_values(\"気温\") # 気温の低い順\n",
    "\n",
    "df_sales_sorted_0 = df_sales_sorted[df_sales_sorted[\"雨_ダミー\"]== 0]\n",
    "df_sales_sorted_1 = df_sales_sorted[df_sales_sorted[\"雨_ダミー\"]== 1]\n",
    "\n",
    "\n",
    "# 雨が降っていない　晴れている場合\n",
    "#x 気温  y 売上　　　o 点　  *-  バッテンを直線で繋ぐ　  青色　b    \n",
    "plt.plot(df_sales_sorted_0[\"気温\"], df_sales_sorted_0[\"売上\"] ,\"o\", color=\"b\")\n",
    "plt.plot(df_sales_sorted_0[\"気温\"], result.predict(df_sales_sorted_0[[\"気温\",\"雨_ダミー\"]]) ,\"*-\", color=\"b\")\n",
    "\n",
    "\n",
    "# 雨が降っている場合\n",
    "\n",
    "plt.plot(df_sales_sorted_1[\"気温\"], df_sales_sorted_1[\"売上\"] ,\"o\", color=\"r\")\n",
    "plt.plot(df_sales_sorted_1[\"気温\"], result.predict(df_sales_sorted_1[[\"気温\",\"雨_ダミー\"]]) ,\"*-\", color=\"r\")\n"
   ]
  },
  {
   "cell_type": "markdown",
   "metadata": {},
   "source": [
    "完了\n",
    "+ 基本的な重回帰分析の説明\n",
    "+ ダミー変数\n",
    "+ 重回帰分析の実行\n",
    "+ Formula APIを用いた重回帰分析の実行\n",
    "+ 特徴量エンジニアリング（対数変換、交互作用）\n",
    "\n",
    "\n",
    "完了\n",
    "+ モデルを使用した未来予測\n",
    "+ グラフの作成\n",
    "\n",
    "\n",
    "\n",
    "+ 正則化項の追加（Lasso回帰、Ridge回帰、Elastic Net）"
   ]
  },
  {
   "cell_type": "markdown",
   "metadata": {},
   "source": []
  },
  {
   "cell_type": "markdown",
   "metadata": {},
   "source": [
    "#   Lasso回帰、Ridge回帰、Elastic Net"
   ]
  },
  {
   "cell_type": "markdown",
   "metadata": {},
   "source": [
    "Lasso回帰(L1正則化)\n",
    "\n",
    "Ridge回帰(L2正則化)\n",
    "\n",
    "52:35"
   ]
  },
  {
   "cell_type": "markdown",
   "metadata": {},
   "source": [
    "今は変数少ない\n",
    "説明変数　20個　とか　100個\n",
    "\n"
   ]
  },
  {
   "cell_type": "code",
   "execution_count": null,
   "metadata": {},
   "outputs": [],
   "source": [
    "# 最小二乗法\n",
    "model= smf.ols(data=df_sales,formula=\"売上 ~ 気温 + 単価 + 雨_ダミー\") #切片を抜きたい場合は-1 \n",
    "\n",
    "# L1\n",
    "# alpha 大きいほど　説明変数の選択を厳しくする\n",
    "result = model.fit_regularized(L1_wt=1,alpha=0.1)\n",
    "\n",
    "result.params\n",
    "\n",
    "\n",
    "# 切片の係数\n",
    "# 気温の係数\n",
    "#\n",
    "#"
   ]
  },
  {
   "cell_type": "code",
   "execution_count": null,
   "metadata": {},
   "outputs": [],
   "source": [
    "# 最小二乗法\n",
    "model= smf.ols(data=df_sales,formula=\"売上 ~ 気温 + 単価 + 雨_ダミー\") #切片を抜きたい場合は-1 \n",
    "\n",
    "# L1\n",
    "# alpha 大きいほど　説明変数の選択を厳しくする\n",
    "result = model.fit_regularized(L1_wt=1,alpha=1)\n",
    "\n",
    "result.params\n",
    "\n",
    "\n",
    "# alphaを増やしていくと　0 のやつが増えていく"
   ]
  },
  {
   "cell_type": "code",
   "execution_count": null,
   "metadata": {},
   "outputs": [],
   "source": [
    "# 最小二乗法\n",
    "model= smf.ols(data=df_sales,formula=\"売上 ~ 気温 + 単価 + 雨_ダミー\") #切片を抜きたい場合は-1 \n",
    "\n",
    "# L1\n",
    "# alpha 大きいほど　説明変数の選択を厳しくする\n",
    "result = model.fit_regularized(L1_wt=1,alpha=100)\n",
    "\n",
    "result.params"
   ]
  },
  {
   "cell_type": "code",
   "execution_count": null,
   "metadata": {},
   "outputs": [],
   "source": [
    "# 最小二乗法\n",
    "model= smf.ols(data=df_sales,formula=\"売上 ~ 気温 + 単価 + 雨_ダミー\") #切片を抜きたい場合は-1 \n",
    "\n",
    "# L1\n",
    "# alpha 大きいほど　説明変数の選択を厳しくする\n",
    "result = model.fit_regularized(L1_wt=1,alpha=10000)\n",
    "\n",
    "result.params\n",
    "\n",
    "# いらない変数を０にしていく\n",
    "\n",
    "# ある程度自動で選定できる　"
   ]
  },
  {
   "cell_type": "code",
   "execution_count": null,
   "metadata": {},
   "outputs": [],
   "source": [
    "# 最小二乗法\n",
    "model= smf.ols(data=df_sales,formula=\"売上 ~ 気温 + 単価 + 雨_ダミー\") #切片を抜きたい場合は-1 \n",
    "\n",
    "# L1\n",
    "# alpha 大きいほど　説明変数の選択を厳しくする\n",
    "result = model.fit_regularized(L1_wt=1,alpha=80)\n",
    "\n",
    "result.params"
   ]
  },
  {
   "cell_type": "markdown",
   "metadata": {},
   "source": [
    "さっきと結果が違うが　使用する手法によって　何が必要な変数かも変わってくる"
   ]
  },
  {
   "cell_type": "markdown",
   "metadata": {},
   "source": [
    "Ridge回帰(L2正則化)\n",
    "\n",
    "\n",
    "\n",
    "多重共線性（マルチコ）\n",
    "\n",
    "\n",
    "雨　と　湿度　みたいに元から関連性がありそうなものが含まれていると　うまく動かない\n",
    "\n",
    "説明変数間で強い相関を持つペアがあるとよくない\n",
    "\n",
    "\n",
    "\n",
    "\n",
    "多少\n",
    "\n",
    "相関係数\n",
    "が高いものがある場合　変数を減らしたいが　どっちも使いたい場合もある\n",
    "\n",
    "\n",
    "そういう時に\n",
    "\n",
    "L2正則化を使う\n"
   ]
  },
  {
   "cell_type": "code",
   "execution_count": null,
   "metadata": {},
   "outputs": [],
   "source": [
    "# 最小二乗法\n",
    "model= smf.ols(data=df_sales,formula=\"売上 ~ 気温 + 単価 + 雨_ダミー\") #切片を抜きたい場合は-1 \n",
    "\n",
    "# L1を0にすれば　L2\n",
    "# alpha 大きいほど　説明変数の選択を厳しくする\n",
    "result = model.fit_regularized(L1_wt=0,alpha=10) # alphaによって変わる。。。\n",
    "\n",
    "result.params\n",
    "\n",
    "#   切片         気温         単価         雨_ダミー  　　の係数\n",
    "\n",
    "\n",
    "\n"
   ]
  },
  {
   "cell_type": "markdown",
   "metadata": {},
   "source": [
    "lasso  説明変数の選定ができる　　相関が強いとうまく働かない\n",
    "Ridge  L2　　多重共線性には対応できる(相関強くてもOK) 　　説明変数の選定はしない\n",
    "\n",
    "Elastic Net  どっちものいいとこ取り"
   ]
  },
  {
   "cell_type": "code",
   "execution_count": null,
   "metadata": {},
   "outputs": [],
   "source": [
    "# 最小二乗法\n",
    "model= smf.ols(data=df_sales,formula=\"売上 ~ 気温 + 単価 + 雨_ダミー\") #切片を抜きたい場合は-1 \n",
    "\n",
    "# L1_wtを0~1にすれば　elastic net    lassoを強くするなら　0  ridgeを強うくするなら 1\n",
    "# alpha 大きいほど　説明変数の選択を厳しくする\n",
    "result = model.fit_regularized(L1_wt=0.5,alpha=0.2) # alphaによって変わる。。。\n",
    "\n",
    "result.params"
   ]
  },
  {
   "cell_type": "code",
   "execution_count": null,
   "metadata": {},
   "outputs": [],
   "source": [
    "# 最小二乗法\n",
    "model= smf.ols(data=df_sales,formula=\"売上 ~ 気温 + 単価 + 雨_ダミー\") #切片を抜きたい場合は-1 \n",
    "\n",
    "# L1_wtを0~1にすれば　elastic net    lassoを強くするなら　1  ridgeを強うくするなら 0\n",
    "# alpha 大きいほど　説明変数の選択を厳しくする\n",
    "result = model.fit_regularized(L1_wt=0.5,alpha=10) # alphaによって変わる。。。\n",
    "\n",
    "result.params"
   ]
  },
  {
   "cell_type": "code",
   "execution_count": null,
   "metadata": {},
   "outputs": [],
   "source": [
    "# 最小二乗法\n",
    "model= smf.ols(data=df_sales,formula=\"売上 ~ 気温 + 単価 + 雨_ダミー\") #切片を抜きたい場合は-1 \n",
    "\n",
    "# L1_wt=1なら　alphaを調整して　説明変数が少なくなればいいなですむが\n",
    "# L1_wt=0なら　alphaを調整しても　結果が全て変わるし、何が一番いいかの判別がつきにくい\n",
    "result = model.fit_regularized(L1_wt=1,alpha=10) # alphaによって変わる。。。\n",
    "\n",
    "result.params"
   ]
  },
  {
   "cell_type": "code",
   "execution_count": null,
   "metadata": {},
   "outputs": [],
   "source": [
    "# Mean Squared Error(平均二乗誤差)\n",
    "from sklearn.metrics import mean_squared_error"
   ]
  },
  {
   "cell_type": "code",
   "execution_count": null,
   "metadata": {},
   "outputs": [],
   "source": [
    "df_sales"
   ]
  },
  {
   "cell_type": "markdown",
   "metadata": {},
   "source": []
  },
  {
   "cell_type": "code",
   "execution_count": null,
   "metadata": {},
   "outputs": [],
   "source": [
    "result.predict()#36行についての　売上　予測値が入っている"
   ]
  },
  {
   "cell_type": "code",
   "execution_count": null,
   "metadata": {},
   "outputs": [],
   "source": [
    "model= smf.ols(data=df_sales,formula=\"売上 ~ 気温 + 単価 + 雨_ダミー\") #切片を抜きたい場合は-1 \n",
    "result = model.fit_regularized(L1_wt=0,alpha=0.1) \n",
    "print(result.params)\n",
    "\n",
    "mean_squared_error(result.predict(),df_sales[\"売上\"])# 予想した値と実際の値の差の二乗\n",
    "\n",
    "#二乗したので平方根をとる\n",
    "np.sqrt(mean_squared_error(result.predict(),df_sales[\"売上\"]))\n",
    "\n",
    "# RMSE Root Mean Squared Error(二乗平均平方根誤差)\n",
    "# 小さいほど優秀"
   ]
  },
  {
   "cell_type": "code",
   "execution_count": null,
   "metadata": {},
   "outputs": [],
   "source": [
    "model= smf.ols(data=df_sales,formula=\"売上 ~ 気温 + 単価 + 雨_ダミー\") #切片を抜きたい場合は-1 \n",
    "result = model.fit_regularized(L1_wt=0.5,alpha=0.01) \n",
    "print(result.params)\n",
    "\n",
    "mean_squared_error(result.predict(),df_sales[\"売上\"])# 予想した値と実際の値の差の二乗\n",
    "\n",
    "#二乗したので平方根をとる\n",
    "np.sqrt(mean_squared_error(result.predict(),df_sales[\"売上\"]))\n",
    "\n",
    "# RMSE Root Mean Squared Error(二乗平均平方根誤差)\n",
    "# 小さいほど優秀\n"
   ]
  },
  {
   "cell_type": "markdown",
   "metadata": {},
   "source": []
  },
  {
   "cell_type": "markdown",
   "metadata": {},
   "source": [
    "# ロジスティック回帰"
   ]
  },
  {
   "cell_type": "markdown",
   "metadata": {},
   "source": [
    "ホームページ滞在時間　によって　\n",
    "ゲームに登録したかどうか\n",
    "を考えてみる\n",
    "\n",
    "\n",
    "ゲームに登録したかどうか        0か１　　     y軸\n",
    "\n",
    "ホームページ滞在時間　　x軸　変わる\n",
    "\n",
    "\n",
    "ロジスティック曲線で近似させる\n"
   ]
  },
  {
   "cell_type": "code",
   "execution_count": null,
   "metadata": {},
   "outputs": [],
   "source": [
    "df_user = pd.read_csv(\"2_1/user_sample.csv\")\n",
    "df_user # ダミー変数の要素３以上なら２列にする　　　晴れ　1 0     曇り　 1  0　 （どれにも当てはまらない　雨かな？）\n"
   ]
  },
  {
   "cell_type": "markdown",
   "metadata": {},
   "source": [
    "# "
   ]
  },
  {
   "cell_type": "markdown",
   "metadata": {},
   "source": [
    "##        Formula APIを使わない   ロジスティック回帰"
   ]
  },
  {
   "cell_type": "code",
   "execution_count": null,
   "metadata": {},
   "outputs": [],
   "source": [
    "X = df_user[[\"性別\",\"学生\",\"滞在時間\"]]#説明変数\n",
    "y = df_user[\"登録\"]\n",
    "\n",
    "model = sm.Logit(y,sm.add_constant(X)) # ロジスティック回帰\n",
    "result = model.fit()\n",
    "result.summary()"
   ]
  },
  {
   "cell_type": "markdown",
   "metadata": {},
   "source": [
    "# ロジスティック回帰　Formula APIを使う方法"
   ]
  },
  {
   "cell_type": "markdown",
   "metadata": {},
   "source": []
  },
  {
   "cell_type": "code",
   "execution_count": null,
   "metadata": {},
   "outputs": [],
   "source": [
    "\n",
    "# glm 一般化線形モデル　線形以外の回帰分析をしたい時にglm 「直線じゃない時」\n",
    "# family 確率分布 二項分布を指定　0or1\n",
    "\n",
    "model = smf.glm(data=df_user,formula=\"登録 ~ 性別 + 学生 + 滞在時間 + 1\", family = sm.families.Binomial())\n",
    "\n",
    "result=model.fit()\n",
    "result.summary()\n"
   ]
  },
  {
   "cell_type": "code",
   "execution_count": null,
   "metadata": {},
   "outputs": [],
   "source": [
    "result.aic # AIC 赤池情報量基準  モデルのフィッティング具合をはかる指標の１個 指標が小さい方が当てはまりがいい"
   ]
  },
  {
   "cell_type": "code",
   "execution_count": null,
   "metadata": {},
   "outputs": [],
   "source": [
    "model = smf.glm(data=df_user,formula=\"登録 ~ 性別  + 滞在時間 + 1\", family = sm.families.Binomial())\n",
    "\n",
    "result=model.fit()\n",
    "result.summary()"
   ]
  },
  {
   "cell_type": "code",
   "execution_count": null,
   "metadata": {},
   "outputs": [],
   "source": [
    "result.aic"
   ]
  },
  {
   "cell_type": "code",
   "execution_count": null,
   "metadata": {},
   "outputs": [],
   "source": [
    "model = smf.glm(data=df_user,formula=\"登録 ~  学生 + 滞在時間 + 1\", family = sm.families.Binomial())\n",
    "\n",
    "result=model.fit()\n",
    "result.summary()"
   ]
  },
  {
   "cell_type": "code",
   "execution_count": null,
   "metadata": {},
   "outputs": [],
   "source": [
    "result.aic"
   ]
  },
  {
   "cell_type": "markdown",
   "metadata": {},
   "source": []
  },
  {
   "cell_type": "markdown",
   "metadata": {},
   "source": [
    "# "
   ]
  },
  {
   "cell_type": "code",
   "execution_count": 57,
   "metadata": {},
   "outputs": [],
   "source": [
    "# モデルを使用した予測\n",
    "df_user_pred = pd.read_csv(\"2_1/user_sample_pred.csv\")"
   ]
  },
  {
   "cell_type": "code",
   "execution_count": 59,
   "metadata": {},
   "outputs": [
    {
     "data": {
      "text/html": [
       "<div>\n",
       "<style scoped>\n",
       "    .dataframe tbody tr th:only-of-type {\n",
       "        vertical-align: middle;\n",
       "    }\n",
       "\n",
       "    .dataframe tbody tr th {\n",
       "        vertical-align: top;\n",
       "    }\n",
       "\n",
       "    .dataframe thead th {\n",
       "        text-align: right;\n",
       "    }\n",
       "</style>\n",
       "<table border=\"1\" class=\"dataframe\">\n",
       "  <thead>\n",
       "    <tr style=\"text-align: right;\">\n",
       "      <th></th>\n",
       "      <th>性別</th>\n",
       "      <th>学生</th>\n",
       "      <th>滞在時間</th>\n",
       "    </tr>\n",
       "  </thead>\n",
       "  <tbody>\n",
       "    <tr>\n",
       "      <th>0</th>\n",
       "      <td>0</td>\n",
       "      <td>1</td>\n",
       "      <td>67</td>\n",
       "    </tr>\n",
       "    <tr>\n",
       "      <th>1</th>\n",
       "      <td>0</td>\n",
       "      <td>0</td>\n",
       "      <td>80</td>\n",
       "    </tr>\n",
       "    <tr>\n",
       "      <th>2</th>\n",
       "      <td>1</td>\n",
       "      <td>0</td>\n",
       "      <td>19</td>\n",
       "    </tr>\n",
       "    <tr>\n",
       "      <th>3</th>\n",
       "      <td>0</td>\n",
       "      <td>1</td>\n",
       "      <td>92</td>\n",
       "    </tr>\n",
       "    <tr>\n",
       "      <th>4</th>\n",
       "      <td>1</td>\n",
       "      <td>1</td>\n",
       "      <td>56</td>\n",
       "    </tr>\n",
       "    <tr>\n",
       "      <th>5</th>\n",
       "      <td>0</td>\n",
       "      <td>0</td>\n",
       "      <td>42</td>\n",
       "    </tr>\n",
       "    <tr>\n",
       "      <th>6</th>\n",
       "      <td>0</td>\n",
       "      <td>0</td>\n",
       "      <td>98</td>\n",
       "    </tr>\n",
       "    <tr>\n",
       "      <th>7</th>\n",
       "      <td>1</td>\n",
       "      <td>1</td>\n",
       "      <td>78</td>\n",
       "    </tr>\n",
       "    <tr>\n",
       "      <th>8</th>\n",
       "      <td>1</td>\n",
       "      <td>0</td>\n",
       "      <td>90</td>\n",
       "    </tr>\n",
       "    <tr>\n",
       "      <th>9</th>\n",
       "      <td>0</td>\n",
       "      <td>1</td>\n",
       "      <td>66</td>\n",
       "    </tr>\n",
       "  </tbody>\n",
       "</table>\n",
       "</div>"
      ],
      "text/plain": [
       "   性別  学生  滞在時間\n",
       "0   0   1    67\n",
       "1   0   0    80\n",
       "2   1   0    19\n",
       "3   0   1    92\n",
       "4   1   1    56\n",
       "5   0   0    42\n",
       "6   0   0    98\n",
       "7   1   1    78\n",
       "8   1   0    90\n",
       "9   0   1    66"
      ]
     },
     "execution_count": 59,
     "metadata": {},
     "output_type": "execute_result"
    }
   ],
   "source": [
    "df_user_pred "
   ]
  },
  {
   "cell_type": "code",
   "execution_count": null,
   "metadata": {},
   "outputs": [
    {
     "data": {
      "text/plain": [
       "0    0.617041\n",
       "1    0.292847\n",
       "2    0.034132\n",
       "3    0.815431\n",
       "4    0.508296\n",
       "5    0.082051\n",
       "6    0.461241\n",
       "7    0.715211\n",
       "8    0.382695\n",
       "9    0.607463\n",
       "dtype: float64"
      ]
     },
     "execution_count": 58,
     "metadata": {},
     "output_type": "execute_result"
    }
   ],
   "source": [
    "result.predict(df_user_pred) # 予測値 0~1 登録するかしないか　確率"
   ]
  },
  {
   "cell_type": "markdown",
   "metadata": {},
   "source": [
    " #"
   ]
  },
  {
   "cell_type": "code",
   "execution_count": null,
   "metadata": {},
   "outputs": [],
   "source": []
  },
  {
   "cell_type": "markdown",
   "metadata": {},
   "source": [
    "# ポアソン回帰分析"
   ]
  },
  {
   "cell_type": "markdown",
   "metadata": {},
   "source": [
    "ポアソン分布\n",
    "\n",
    "１年あたりの大型台風の回数\n",
    "\n",
    "\n",
    "\n",
    "台風　何回も起こるものではない\n",
    "\n",
    "\n",
    "\n",
    "0回　１回　２回　　　　　x軸　　　　ヒストグラム　にする　正規分布ではない　初めの方がもっこり　　\n",
    "よくある\n",
    "\n",
    "\n",
    "\n",
    "営業活動\n",
    "\n",
    "成約回数　y軸\n",
    "\n",
    "3回\n",
    "　　　　　　　　　　　　　多いかも\n",
    "2回\n",
    "\n",
    "１回\n",
    "\n",
    "　　　少ない　　　　　　　　　　　　　少ない\n",
    " \n",
    "    10    20    30         100     訪問回数 \n",
    "\n",
    "\n",
    "直線もおかしい\n",
    "ロジスティック曲線もおかしい\n",
    "\n",
    "曲線\n",
    "\n",
    "\n",
    "データによって変わる"
   ]
  },
  {
   "cell_type": "code",
   "execution_count": 60,
   "metadata": {},
   "outputs": [],
   "source": [
    "df_contract = pd.read_csv(\"2_1/contract_sample.csv\")"
   ]
  },
  {
   "cell_type": "code",
   "execution_count": 61,
   "metadata": {},
   "outputs": [
    {
     "data": {
      "text/html": [
       "<div>\n",
       "<style scoped>\n",
       "    .dataframe tbody tr th:only-of-type {\n",
       "        vertical-align: middle;\n",
       "    }\n",
       "\n",
       "    .dataframe tbody tr th {\n",
       "        vertical-align: top;\n",
       "    }\n",
       "\n",
       "    .dataframe thead th {\n",
       "        text-align: right;\n",
       "    }\n",
       "</style>\n",
       "<table border=\"1\" class=\"dataframe\">\n",
       "  <thead>\n",
       "    <tr style=\"text-align: right;\">\n",
       "      <th></th>\n",
       "      <th>氏名</th>\n",
       "      <th>訪問回数</th>\n",
       "      <th>メール送信</th>\n",
       "      <th>成約数</th>\n",
       "    </tr>\n",
       "  </thead>\n",
       "  <tbody>\n",
       "    <tr>\n",
       "      <th>0</th>\n",
       "      <td>Aさん</td>\n",
       "      <td>32</td>\n",
       "      <td>0</td>\n",
       "      <td>0</td>\n",
       "    </tr>\n",
       "    <tr>\n",
       "      <th>1</th>\n",
       "      <td>Bさん</td>\n",
       "      <td>56</td>\n",
       "      <td>1</td>\n",
       "      <td>3</td>\n",
       "    </tr>\n",
       "    <tr>\n",
       "      <th>2</th>\n",
       "      <td>Cさん</td>\n",
       "      <td>42</td>\n",
       "      <td>1</td>\n",
       "      <td>1</td>\n",
       "    </tr>\n",
       "    <tr>\n",
       "      <th>3</th>\n",
       "      <td>Dさん</td>\n",
       "      <td>36</td>\n",
       "      <td>0</td>\n",
       "      <td>1</td>\n",
       "    </tr>\n",
       "    <tr>\n",
       "      <th>4</th>\n",
       "      <td>Eさん</td>\n",
       "      <td>60</td>\n",
       "      <td>0</td>\n",
       "      <td>0</td>\n",
       "    </tr>\n",
       "    <tr>\n",
       "      <th>5</th>\n",
       "      <td>Fさん</td>\n",
       "      <td>29</td>\n",
       "      <td>1</td>\n",
       "      <td>1</td>\n",
       "    </tr>\n",
       "    <tr>\n",
       "      <th>6</th>\n",
       "      <td>Gさん</td>\n",
       "      <td>29</td>\n",
       "      <td>0</td>\n",
       "      <td>0</td>\n",
       "    </tr>\n",
       "    <tr>\n",
       "      <th>7</th>\n",
       "      <td>Hさん</td>\n",
       "      <td>43</td>\n",
       "      <td>0</td>\n",
       "      <td>1</td>\n",
       "    </tr>\n",
       "    <tr>\n",
       "      <th>8</th>\n",
       "      <td>Iさん</td>\n",
       "      <td>56</td>\n",
       "      <td>1</td>\n",
       "      <td>1</td>\n",
       "    </tr>\n",
       "    <tr>\n",
       "      <th>9</th>\n",
       "      <td>Jさん</td>\n",
       "      <td>43</td>\n",
       "      <td>0</td>\n",
       "      <td>0</td>\n",
       "    </tr>\n",
       "    <tr>\n",
       "      <th>10</th>\n",
       "      <td>Kさん</td>\n",
       "      <td>30</td>\n",
       "      <td>1</td>\n",
       "      <td>2</td>\n",
       "    </tr>\n",
       "    <tr>\n",
       "      <th>11</th>\n",
       "      <td>Lさん</td>\n",
       "      <td>46</td>\n",
       "      <td>0</td>\n",
       "      <td>0</td>\n",
       "    </tr>\n",
       "    <tr>\n",
       "      <th>12</th>\n",
       "      <td>Mさん</td>\n",
       "      <td>45</td>\n",
       "      <td>0</td>\n",
       "      <td>0</td>\n",
       "    </tr>\n",
       "    <tr>\n",
       "      <th>13</th>\n",
       "      <td>Nさん</td>\n",
       "      <td>50</td>\n",
       "      <td>1</td>\n",
       "      <td>4</td>\n",
       "    </tr>\n",
       "    <tr>\n",
       "      <th>14</th>\n",
       "      <td>Oさん</td>\n",
       "      <td>46</td>\n",
       "      <td>1</td>\n",
       "      <td>3</td>\n",
       "    </tr>\n",
       "    <tr>\n",
       "      <th>15</th>\n",
       "      <td>Pさん</td>\n",
       "      <td>34</td>\n",
       "      <td>0</td>\n",
       "      <td>0</td>\n",
       "    </tr>\n",
       "    <tr>\n",
       "      <th>16</th>\n",
       "      <td>Qさん</td>\n",
       "      <td>36</td>\n",
       "      <td>0</td>\n",
       "      <td>1</td>\n",
       "    </tr>\n",
       "    <tr>\n",
       "      <th>17</th>\n",
       "      <td>Rさん</td>\n",
       "      <td>40</td>\n",
       "      <td>0</td>\n",
       "      <td>2</td>\n",
       "    </tr>\n",
       "    <tr>\n",
       "      <th>18</th>\n",
       "      <td>Sさん</td>\n",
       "      <td>39</td>\n",
       "      <td>1</td>\n",
       "      <td>3</td>\n",
       "    </tr>\n",
       "    <tr>\n",
       "      <th>19</th>\n",
       "      <td>Tさん</td>\n",
       "      <td>43</td>\n",
       "      <td>0</td>\n",
       "      <td>2</td>\n",
       "    </tr>\n",
       "    <tr>\n",
       "      <th>20</th>\n",
       "      <td>Uさん</td>\n",
       "      <td>34</td>\n",
       "      <td>0</td>\n",
       "      <td>0</td>\n",
       "    </tr>\n",
       "    <tr>\n",
       "      <th>21</th>\n",
       "      <td>Vさん</td>\n",
       "      <td>46</td>\n",
       "      <td>1</td>\n",
       "      <td>1</td>\n",
       "    </tr>\n",
       "    <tr>\n",
       "      <th>22</th>\n",
       "      <td>Wさん</td>\n",
       "      <td>43</td>\n",
       "      <td>0</td>\n",
       "      <td>1</td>\n",
       "    </tr>\n",
       "    <tr>\n",
       "      <th>23</th>\n",
       "      <td>Xさん</td>\n",
       "      <td>50</td>\n",
       "      <td>0</td>\n",
       "      <td>1</td>\n",
       "    </tr>\n",
       "    <tr>\n",
       "      <th>24</th>\n",
       "      <td>Yさん</td>\n",
       "      <td>61</td>\n",
       "      <td>1</td>\n",
       "      <td>2</td>\n",
       "    </tr>\n",
       "    <tr>\n",
       "      <th>25</th>\n",
       "      <td>Zさん</td>\n",
       "      <td>47</td>\n",
       "      <td>0</td>\n",
       "      <td>1</td>\n",
       "    </tr>\n",
       "    <tr>\n",
       "      <th>26</th>\n",
       "      <td>aさん</td>\n",
       "      <td>34</td>\n",
       "      <td>0</td>\n",
       "      <td>0</td>\n",
       "    </tr>\n",
       "    <tr>\n",
       "      <th>27</th>\n",
       "      <td>bさん</td>\n",
       "      <td>53</td>\n",
       "      <td>1</td>\n",
       "      <td>4</td>\n",
       "    </tr>\n",
       "    <tr>\n",
       "      <th>28</th>\n",
       "      <td>cさん</td>\n",
       "      <td>41</td>\n",
       "      <td>1</td>\n",
       "      <td>1</td>\n",
       "    </tr>\n",
       "    <tr>\n",
       "      <th>29</th>\n",
       "      <td>dさん</td>\n",
       "      <td>40</td>\n",
       "      <td>0</td>\n",
       "      <td>1</td>\n",
       "    </tr>\n",
       "    <tr>\n",
       "      <th>30</th>\n",
       "      <td>eさん</td>\n",
       "      <td>61</td>\n",
       "      <td>0</td>\n",
       "      <td>1</td>\n",
       "    </tr>\n",
       "    <tr>\n",
       "      <th>31</th>\n",
       "      <td>fさん</td>\n",
       "      <td>27</td>\n",
       "      <td>1</td>\n",
       "      <td>1</td>\n",
       "    </tr>\n",
       "    <tr>\n",
       "      <th>32</th>\n",
       "      <td>gさん</td>\n",
       "      <td>27</td>\n",
       "      <td>0</td>\n",
       "      <td>0</td>\n",
       "    </tr>\n",
       "    <tr>\n",
       "      <th>33</th>\n",
       "      <td>hさん</td>\n",
       "      <td>40</td>\n",
       "      <td>0</td>\n",
       "      <td>1</td>\n",
       "    </tr>\n",
       "    <tr>\n",
       "      <th>34</th>\n",
       "      <td>iさん</td>\n",
       "      <td>55</td>\n",
       "      <td>1</td>\n",
       "      <td>1</td>\n",
       "    </tr>\n",
       "    <tr>\n",
       "      <th>35</th>\n",
       "      <td>jさん</td>\n",
       "      <td>41</td>\n",
       "      <td>0</td>\n",
       "      <td>0</td>\n",
       "    </tr>\n",
       "    <tr>\n",
       "      <th>36</th>\n",
       "      <td>kさん</td>\n",
       "      <td>29</td>\n",
       "      <td>1</td>\n",
       "      <td>2</td>\n",
       "    </tr>\n",
       "    <tr>\n",
       "      <th>37</th>\n",
       "      <td>lさん</td>\n",
       "      <td>47</td>\n",
       "      <td>0</td>\n",
       "      <td>0</td>\n",
       "    </tr>\n",
       "    <tr>\n",
       "      <th>38</th>\n",
       "      <td>mさん</td>\n",
       "      <td>46</td>\n",
       "      <td>0</td>\n",
       "      <td>0</td>\n",
       "    </tr>\n",
       "    <tr>\n",
       "      <th>39</th>\n",
       "      <td>nさん</td>\n",
       "      <td>51</td>\n",
       "      <td>1</td>\n",
       "      <td>4</td>\n",
       "    </tr>\n",
       "    <tr>\n",
       "      <th>40</th>\n",
       "      <td>oさん</td>\n",
       "      <td>45</td>\n",
       "      <td>1</td>\n",
       "      <td>3</td>\n",
       "    </tr>\n",
       "    <tr>\n",
       "      <th>41</th>\n",
       "      <td>pさん</td>\n",
       "      <td>33</td>\n",
       "      <td>0</td>\n",
       "      <td>0</td>\n",
       "    </tr>\n",
       "    <tr>\n",
       "      <th>42</th>\n",
       "      <td>qさん</td>\n",
       "      <td>42</td>\n",
       "      <td>0</td>\n",
       "      <td>1</td>\n",
       "    </tr>\n",
       "    <tr>\n",
       "      <th>43</th>\n",
       "      <td>rさん</td>\n",
       "      <td>36</td>\n",
       "      <td>0</td>\n",
       "      <td>1</td>\n",
       "    </tr>\n",
       "    <tr>\n",
       "      <th>44</th>\n",
       "      <td>sさん</td>\n",
       "      <td>38</td>\n",
       "      <td>1</td>\n",
       "      <td>2</td>\n",
       "    </tr>\n",
       "    <tr>\n",
       "      <th>45</th>\n",
       "      <td>tさん</td>\n",
       "      <td>44</td>\n",
       "      <td>0</td>\n",
       "      <td>2</td>\n",
       "    </tr>\n",
       "    <tr>\n",
       "      <th>46</th>\n",
       "      <td>uさん</td>\n",
       "      <td>33</td>\n",
       "      <td>0</td>\n",
       "      <td>0</td>\n",
       "    </tr>\n",
       "    <tr>\n",
       "      <th>47</th>\n",
       "      <td>vさん</td>\n",
       "      <td>46</td>\n",
       "      <td>1</td>\n",
       "      <td>1</td>\n",
       "    </tr>\n",
       "    <tr>\n",
       "      <th>48</th>\n",
       "      <td>wさん</td>\n",
       "      <td>46</td>\n",
       "      <td>0</td>\n",
       "      <td>1</td>\n",
       "    </tr>\n",
       "    <tr>\n",
       "      <th>49</th>\n",
       "      <td>xさん</td>\n",
       "      <td>54</td>\n",
       "      <td>0</td>\n",
       "      <td>1</td>\n",
       "    </tr>\n",
       "    <tr>\n",
       "      <th>50</th>\n",
       "      <td>yさん</td>\n",
       "      <td>67</td>\n",
       "      <td>1</td>\n",
       "      <td>5</td>\n",
       "    </tr>\n",
       "    <tr>\n",
       "      <th>51</th>\n",
       "      <td>zさん</td>\n",
       "      <td>46</td>\n",
       "      <td>0</td>\n",
       "      <td>1</td>\n",
       "    </tr>\n",
       "  </tbody>\n",
       "</table>\n",
       "</div>"
      ],
      "text/plain": [
       "     氏名  訪問回数  メール送信  成約数\n",
       "0   Aさん    32      0    0\n",
       "1   Bさん    56      1    3\n",
       "2   Cさん    42      1    1\n",
       "3   Dさん    36      0    1\n",
       "4   Eさん    60      0    0\n",
       "5   Fさん    29      1    1\n",
       "6   Gさん    29      0    0\n",
       "7   Hさん    43      0    1\n",
       "8   Iさん    56      1    1\n",
       "9   Jさん    43      0    0\n",
       "10  Kさん    30      1    2\n",
       "11  Lさん    46      0    0\n",
       "12  Mさん    45      0    0\n",
       "13  Nさん    50      1    4\n",
       "14  Oさん    46      1    3\n",
       "15  Pさん    34      0    0\n",
       "16  Qさん    36      0    1\n",
       "17  Rさん    40      0    2\n",
       "18  Sさん    39      1    3\n",
       "19  Tさん    43      0    2\n",
       "20  Uさん    34      0    0\n",
       "21  Vさん    46      1    1\n",
       "22  Wさん    43      0    1\n",
       "23  Xさん    50      0    1\n",
       "24  Yさん    61      1    2\n",
       "25  Zさん    47      0    1\n",
       "26  aさん    34      0    0\n",
       "27  bさん    53      1    4\n",
       "28  cさん    41      1    1\n",
       "29  dさん    40      0    1\n",
       "30  eさん    61      0    1\n",
       "31  fさん    27      1    1\n",
       "32  gさん    27      0    0\n",
       "33  hさん    40      0    1\n",
       "34  iさん    55      1    1\n",
       "35  jさん    41      0    0\n",
       "36  kさん    29      1    2\n",
       "37  lさん    47      0    0\n",
       "38  mさん    46      0    0\n",
       "39  nさん    51      1    4\n",
       "40  oさん    45      1    3\n",
       "41  pさん    33      0    0\n",
       "42  qさん    42      0    1\n",
       "43  rさん    36      0    1\n",
       "44  sさん    38      1    2\n",
       "45  tさん    44      0    2\n",
       "46  uさん    33      0    0\n",
       "47  vさん    46      1    1\n",
       "48  wさん    46      0    1\n",
       "49  xさん    54      0    1\n",
       "50  yさん    67      1    5\n",
       "51  zさん    46      0    1"
      ]
     },
     "execution_count": 61,
     "metadata": {},
     "output_type": "execute_result"
    }
   ],
   "source": [
    "df_contract"
   ]
  },
  {
   "cell_type": "code",
   "execution_count": null,
   "metadata": {},
   "outputs": [],
   "source": []
  },
  {
   "cell_type": "markdown",
   "metadata": {},
   "source": [
    "##        Formula APIを使わない　　ポアソン回帰分析"
   ]
  },
  {
   "cell_type": "code",
   "execution_count": null,
   "metadata": {},
   "outputs": [
    {
     "data": {
      "text/html": [
       "<table class=\"simpletable\">\n",
       "<caption>Generalized Linear Model Regression Results</caption>\n",
       "<tr>\n",
       "  <th>Dep. Variable:</th>          <td>成約数</td>       <th>  No. Observations:  </th>  <td>    52</td> \n",
       "</tr>\n",
       "<tr>\n",
       "  <th>Model:</th>                  <td>GLM</td>       <th>  Df Residuals:      </th>  <td>    50</td> \n",
       "</tr>\n",
       "<tr>\n",
       "  <th>Model Family:</th>         <td>Poisson</td>     <th>  Df Model:          </th>  <td>     1</td> \n",
       "</tr>\n",
       "<tr>\n",
       "  <th>Link Function:</th>          <td>Log</td>       <th>  Scale:             </th> <td>  1.0000</td>\n",
       "</tr>\n",
       "<tr>\n",
       "  <th>Method:</th>                <td>IRLS</td>       <th>  Log-Likelihood:    </th> <td> -65.907</td>\n",
       "</tr>\n",
       "<tr>\n",
       "  <th>Date:</th>            <td>Tue, 10 Dec 2024</td> <th>  Deviance:          </th> <td>  44.273</td>\n",
       "</tr>\n",
       "<tr>\n",
       "  <th>Time:</th>                <td>11:44:45</td>     <th>  Pearson chi2:      </th>  <td>  35.1</td> \n",
       "</tr>\n",
       "<tr>\n",
       "  <th>No. Iterations:</th>          <td>5</td>        <th>  Pseudo R-squ. (CS):</th>  <td>0.3432</td> \n",
       "</tr>\n",
       "<tr>\n",
       "  <th>Covariance Type:</th>     <td>nonrobust</td>    <th>                     </th>     <td> </td>   \n",
       "</tr>\n",
       "</table>\n",
       "<table class=\"simpletable\">\n",
       "<tr>\n",
       "    <td></td>       <th>coef</th>     <th>std err</th>      <th>z</th>      <th>P>|z|</th>  <th>[0.025</th>    <th>0.975]</th>  \n",
       "</tr>\n",
       "<tr>\n",
       "  <th>訪問回数</th>  <td>   -0.0059</td> <td>    0.004</td> <td>   -1.319</td> <td> 0.187</td> <td>   -0.015</td> <td>    0.003</td>\n",
       "</tr>\n",
       "<tr>\n",
       "  <th>メール送信</th> <td>    1.0778</td> <td>    0.250</td> <td>    4.310</td> <td> 0.000</td> <td>    0.588</td> <td>    1.568</td>\n",
       "</tr>\n",
       "</table>"
      ],
      "text/latex": [
       "\\begin{center}\n",
       "\\begin{tabular}{lclc}\n",
       "\\toprule\n",
       "\\textbf{Dep. Variable:}   &       成約数        & \\textbf{  No. Observations:  } &       52    \\\\\n",
       "\\textbf{Model:}           &       GLM        & \\textbf{  Df Residuals:      } &       50    \\\\\n",
       "\\textbf{Model Family:}    &     Poisson      & \\textbf{  Df Model:          } &        1    \\\\\n",
       "\\textbf{Link Function:}   &       Log        & \\textbf{  Scale:             } &    1.0000   \\\\\n",
       "\\textbf{Method:}          &       IRLS       & \\textbf{  Log-Likelihood:    } &   -65.907   \\\\\n",
       "\\textbf{Date:}            & Tue, 10 Dec 2024 & \\textbf{  Deviance:          } &    44.273   \\\\\n",
       "\\textbf{Time:}            &     11:44:45     & \\textbf{  Pearson chi2:      } &     35.1    \\\\\n",
       "\\textbf{No. Iterations:}  &        5         & \\textbf{  Pseudo R-squ. (CS):} &   0.3432    \\\\\n",
       "\\textbf{Covariance Type:} &    nonrobust     & \\textbf{                     } &             \\\\\n",
       "\\bottomrule\n",
       "\\end{tabular}\n",
       "\\begin{tabular}{lcccccc}\n",
       "               & \\textbf{coef} & \\textbf{std err} & \\textbf{z} & \\textbf{P$> |$z$|$} & \\textbf{[0.025} & \\textbf{0.975]}  \\\\\n",
       "\\midrule\n",
       "\\textbf{訪問回数}  &      -0.0059  &        0.004     &    -1.319  &         0.187        &       -0.015    &        0.003     \\\\\n",
       "\\textbf{メール送信} &       1.0778  &        0.250     &     4.310  &         0.000        &        0.588    &        1.568     \\\\\n",
       "\\bottomrule\n",
       "\\end{tabular}\n",
       "%\\caption{Generalized Linear Model Regression Results}\n",
       "\\end{center}"
      ],
      "text/plain": [
       "<class 'statsmodels.iolib.summary.Summary'>\n",
       "\"\"\"\n",
       "                 Generalized Linear Model Regression Results                  \n",
       "==============================================================================\n",
       "Dep. Variable:                    成約数   No. Observations:                   52\n",
       "Model:                            GLM   Df Residuals:                       50\n",
       "Model Family:                 Poisson   Df Model:                            1\n",
       "Link Function:                    Log   Scale:                          1.0000\n",
       "Method:                          IRLS   Log-Likelihood:                -65.907\n",
       "Date:                Tue, 10 Dec 2024   Deviance:                       44.273\n",
       "Time:                        11:44:45   Pearson chi2:                     35.1\n",
       "No. Iterations:                     5   Pseudo R-squ. (CS):             0.3432\n",
       "Covariance Type:            nonrobust                                         \n",
       "==============================================================================\n",
       "                 coef    std err          z      P>|z|      [0.025      0.975]\n",
       "------------------------------------------------------------------------------\n",
       "訪問回数          -0.0059      0.004     -1.319      0.187      -0.015       0.003\n",
       "メール送信          1.0778      0.250      4.310      0.000       0.588       1.568\n",
       "==============================================================================\n",
       "\"\"\""
      ]
     },
     "execution_count": 62,
     "metadata": {},
     "output_type": "execute_result"
    }
   ],
   "source": [
    "X = df_contract[[\"訪問回数\",\"メール送信\"]]#説明変数 \n",
    "y=df_contract[\"成約数\"]\n",
    "\n",
    "\n",
    "# GLM 一般化線形モデル　　　リンク関数　　log\n",
    "model = sm.GLM(y,X,family=sm.families.Poisson())\n",
    "results = model.fit()\n",
    "results.summary()"
   ]
  },
  {
   "cell_type": "code",
   "execution_count": null,
   "metadata": {},
   "outputs": [],
   "source": []
  },
  {
   "cell_type": "markdown",
   "metadata": {},
   "source": [
    "## Formula API　　　　　ポアソン回帰分析"
   ]
  },
  {
   "cell_type": "code",
   "execution_count": 63,
   "metadata": {},
   "outputs": [
    {
     "data": {
      "text/html": [
       "<table class=\"simpletable\">\n",
       "<caption>Generalized Linear Model Regression Results</caption>\n",
       "<tr>\n",
       "  <th>Dep. Variable:</th>          <td>成約数</td>       <th>  No. Observations:  </th>  <td>    52</td> \n",
       "</tr>\n",
       "<tr>\n",
       "  <th>Model:</th>                  <td>GLM</td>       <th>  Df Residuals:      </th>  <td>    49</td> \n",
       "</tr>\n",
       "<tr>\n",
       "  <th>Model Family:</th>         <td>Poisson</td>     <th>  Df Model:          </th>  <td>     2</td> \n",
       "</tr>\n",
       "<tr>\n",
       "  <th>Link Function:</th>          <td>Log</td>       <th>  Scale:             </th> <td>  1.0000</td>\n",
       "</tr>\n",
       "<tr>\n",
       "  <th>Method:</th>                <td>IRLS</td>       <th>  Log-Likelihood:    </th> <td> -62.097</td>\n",
       "</tr>\n",
       "<tr>\n",
       "  <th>Date:</th>            <td>Tue, 10 Dec 2024</td> <th>  Deviance:          </th> <td>  36.652</td>\n",
       "</tr>\n",
       "<tr>\n",
       "  <th>Time:</th>                <td>11:47:08</td>     <th>  Pearson chi2:      </th>  <td>  31.0</td> \n",
       "</tr>\n",
       "<tr>\n",
       "  <th>No. Iterations:</th>          <td>5</td>        <th>  Pseudo R-squ. (CS):</th>  <td>0.4327</td> \n",
       "</tr>\n",
       "<tr>\n",
       "  <th>Covariance Type:</th>     <td>nonrobust</td>    <th>                     </th>     <td> </td>   \n",
       "</tr>\n",
       "</table>\n",
       "<table class=\"simpletable\">\n",
       "<tr>\n",
       "      <td></td>         <th>coef</th>     <th>std err</th>      <th>z</th>      <th>P>|z|</th>  <th>[0.025</th>    <th>0.975]</th>  \n",
       "</tr>\n",
       "<tr>\n",
       "  <th>Intercept</th> <td>   -1.5568</td> <td>    0.581</td> <td>   -2.679</td> <td> 0.007</td> <td>   -2.696</td> <td>   -0.418</td>\n",
       "</tr>\n",
       "<tr>\n",
       "  <th>訪問回数</th>      <td>    0.0256</td> <td>    0.012</td> <td>    2.067</td> <td> 0.039</td> <td>    0.001</td> <td>    0.050</td>\n",
       "</tr>\n",
       "<tr>\n",
       "  <th>メール送信</th>     <td>    1.1671</td> <td>    0.276</td> <td>    4.228</td> <td> 0.000</td> <td>    0.626</td> <td>    1.708</td>\n",
       "</tr>\n",
       "</table>"
      ],
      "text/latex": [
       "\\begin{center}\n",
       "\\begin{tabular}{lclc}\n",
       "\\toprule\n",
       "\\textbf{Dep. Variable:}   &       成約数        & \\textbf{  No. Observations:  } &       52    \\\\\n",
       "\\textbf{Model:}           &       GLM        & \\textbf{  Df Residuals:      } &       49    \\\\\n",
       "\\textbf{Model Family:}    &     Poisson      & \\textbf{  Df Model:          } &        2    \\\\\n",
       "\\textbf{Link Function:}   &       Log        & \\textbf{  Scale:             } &    1.0000   \\\\\n",
       "\\textbf{Method:}          &       IRLS       & \\textbf{  Log-Likelihood:    } &   -62.097   \\\\\n",
       "\\textbf{Date:}            & Tue, 10 Dec 2024 & \\textbf{  Deviance:          } &    36.652   \\\\\n",
       "\\textbf{Time:}            &     11:47:08     & \\textbf{  Pearson chi2:      } &     31.0    \\\\\n",
       "\\textbf{No. Iterations:}  &        5         & \\textbf{  Pseudo R-squ. (CS):} &   0.4327    \\\\\n",
       "\\textbf{Covariance Type:} &    nonrobust     & \\textbf{                     } &             \\\\\n",
       "\\bottomrule\n",
       "\\end{tabular}\n",
       "\\begin{tabular}{lcccccc}\n",
       "                   & \\textbf{coef} & \\textbf{std err} & \\textbf{z} & \\textbf{P$> |$z$|$} & \\textbf{[0.025} & \\textbf{0.975]}  \\\\\n",
       "\\midrule\n",
       "\\textbf{Intercept} &      -1.5568  &        0.581     &    -2.679  &         0.007        &       -2.696    &       -0.418     \\\\\n",
       "\\textbf{訪問回数}      &       0.0256  &        0.012     &     2.067  &         0.039        &        0.001    &        0.050     \\\\\n",
       "\\textbf{メール送信}     &       1.1671  &        0.276     &     4.228  &         0.000        &        0.626    &        1.708     \\\\\n",
       "\\bottomrule\n",
       "\\end{tabular}\n",
       "%\\caption{Generalized Linear Model Regression Results}\n",
       "\\end{center}"
      ],
      "text/plain": [
       "<class 'statsmodels.iolib.summary.Summary'>\n",
       "\"\"\"\n",
       "                 Generalized Linear Model Regression Results                  \n",
       "==============================================================================\n",
       "Dep. Variable:                    成約数   No. Observations:                   52\n",
       "Model:                            GLM   Df Residuals:                       49\n",
       "Model Family:                 Poisson   Df Model:                            2\n",
       "Link Function:                    Log   Scale:                          1.0000\n",
       "Method:                          IRLS   Log-Likelihood:                -62.097\n",
       "Date:                Tue, 10 Dec 2024   Deviance:                       36.652\n",
       "Time:                        11:47:08   Pearson chi2:                     31.0\n",
       "No. Iterations:                     5   Pseudo R-squ. (CS):             0.4327\n",
       "Covariance Type:            nonrobust                                         \n",
       "==============================================================================\n",
       "                 coef    std err          z      P>|z|      [0.025      0.975]\n",
       "------------------------------------------------------------------------------\n",
       "Intercept     -1.5568      0.581     -2.679      0.007      -2.696      -0.418\n",
       "訪問回数           0.0256      0.012      2.067      0.039       0.001       0.050\n",
       "メール送信          1.1671      0.276      4.228      0.000       0.626       1.708\n",
       "==============================================================================\n",
       "\"\"\""
      ]
     },
     "execution_count": 63,
     "metadata": {},
     "output_type": "execute_result"
    }
   ],
   "source": [
    "# Formula API\n",
    "model = smf.glm(data=df_contract,\n",
    "                formula=\"成約数 ~ 訪問回数 + メール送信 + 1\", \n",
    "                family = sm.families.Poisson())\n",
    "\n",
    "result = model.fit()\n",
    "result.summary()"
   ]
  },
  {
   "cell_type": "code",
   "execution_count": 64,
   "metadata": {},
   "outputs": [
    {
     "data": {
      "text/plain": [
       "np.float64(130.1934628570886)"
      ]
     },
     "execution_count": 64,
     "metadata": {},
     "output_type": "execute_result"
    }
   ],
   "source": [
    "result.aic"
   ]
  },
  {
   "cell_type": "markdown",
   "metadata": {},
   "source": [
    "# グラフの確認"
   ]
  },
  {
   "cell_type": "code",
   "execution_count": null,
   "metadata": {},
   "outputs": [
    {
     "data": {
      "text/plain": [
       "[<matplotlib.lines.Line2D at 0x133cf2ed0>]"
      ]
     },
     "execution_count": 68,
     "metadata": {},
     "output_type": "execute_result"
    },
    {
     "data": {
      "image/png": "[encoded data removed]",
      "text/plain": [
       "<Figure size 1000x800 with 1 Axes>"
      ]
     },
     "metadata": {},
     "output_type": "display_data"
    }
   ],
   "source": [
    "sns.set(font=\"Hiragino Sans\",context=\"notebook\",style=\"white\")\n",
    "plt.figure(figsize=(10,8))\n",
    "\n",
    "df_contract_sorted = df_contract.sort_values(\"訪問回数\")\n",
    "\n",
    "df_contract_sorted_0 =  df_contract_sorted[df_contract_sorted[\"メール送信\"] == 0 ]\n",
    "df_contract_sorted_1 =  df_contract_sorted[df_contract_sorted[\"メール送信\"] == 1 ]\n",
    "\n",
    "plt.plot(df_contract_sorted_0[\"訪問回数\"],df_contract_sorted_0[\"成約数\"],\"o\",color = \"b\")\n",
    "plt.plot(df_contract_sorted_0[\"訪問回数\"],result.predict(df_contract_sorted_0),\"*-\",color = \"b\")\n",
    "\n",
    "plt.plot(df_contract_sorted_1[\"訪問回数\"],df_contract_sorted_1[\"成約数\"],\"o\",color = \"b\")\n",
    "plt.plot(df_contract_sorted_1[\"訪問回数\"],result.predict(df_contract_sorted_1),\"*-\",color = \"r\")\n",
    "\n",
    "\n"
   ]
  },
  {
   "cell_type": "markdown",
   "metadata": {},
   "source": [
    "線で結ばれたところが、予測  　　　 まる　実測値"
   ]
  },
  {
   "cell_type": "markdown",
   "metadata": {},
   "source": [
    "発生確率が少ない場合、ポアソン確率\n",
    "\n"
   ]
  },
  {
   "cell_type": "code",
   "execution_count": null,
   "metadata": {},
   "outputs": [],
   "source": []
  },
  {
   "cell_type": "markdown",
   "metadata": {},
   "source": []
  },
  {
   "cell_type": "code",
   "execution_count": null,
   "metadata": {},
   "outputs": [],
   "source": []
  }
 ],
 "metadata": {
  "kernelspec": {
   "display_name": "jupyter_test",
   "language": "python",
   "name": "python3"
  },
  "language_info": {
   "codemirror_mode": {
    "name": "ipython",
    "version": 3
   },
   "file_extension": ".py",
   "mimetype": "text/x-python",
   "name": "python",
   "nbconvert_exporter": "python",
   "pygments_lexer": "ipython3",
   "version": "3.12.3"
  }
 },
 "nbformat": 4,
 "nbformat_minor": 2
}
